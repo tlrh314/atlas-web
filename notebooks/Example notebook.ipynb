{
 "cells": [
  {
   "cell_type": "code",
   "execution_count": 1,
   "metadata": {},
   "outputs": [
    {
     "name": "stdout",
     "output_type": "stream",
     "text": [
      "The sql query that's executed is:\n",
      "SELECT \"users_user\".\"email\" FROM \"users_user\" WHERE \"users_user\".\"email\" = timo@halbesma.com\n",
      "\n",
      "Timo's Email Address is: timo@halbesma.com\n"
     ]
    }
   ],
   "source": [
    "# NB, ensure that the notebook is running with the Django kernel to ensure\n",
    "# that the Django application is loaded and that the notebook has a connection\n",
    "# to the postgres database. The Python 3 would not have such connection.\n",
    "\n",
    "from django.contrib.auth import get_user_model\n",
    "User = get_user_model()\n",
    "\n",
    "queryset = User.objects.filter(email=\"timo@halbesma.com\").values_list(\"email\", flat=True)\n",
    "print(\"The sql query that's executed is:\\n{}\".format(queryset.query))\n",
    "\n",
    "timo_email = queryset.first()\n",
    "print(\"\\nTimo's Email Address is: {}\".format(timo_email))"
   ]
  },
  {
   "cell_type": "code",
   "execution_count": null,
   "metadata": {},
   "outputs": [],
   "source": []
  }
 ],
 "metadata": {
  "kernelspec": {
   "display_name": "Django",
   "language": "python",
   "name": "django_extensions"
  },
  "language_info": {
   "codemirror_mode": {
    "name": "ipython",
    "version": 3
   },
   "file_extension": ".py",
   "mimetype": "text/x-python",
   "name": "python",
   "nbconvert_exporter": "python",
   "pygments_lexer": "ipython3",
   "version": "3.8.6"
  }
 },
 "nbformat": 4,
 "nbformat_minor": 4
}
